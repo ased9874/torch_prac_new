{
 "cells": [
  {
   "cell_type": "markdown",
   "id": "0705bfb5",
   "metadata": {},
   "source": [
    "# know tensor "
   ]
  },
  {
   "cell_type": "code",
   "execution_count": 51,
   "id": "73c1b108",
   "metadata": {},
   "outputs": [
    {
     "name": "stdout",
     "output_type": "stream",
     "text": [
      "3\n",
      "torch.Size([3, 3, 3])\n",
      "tensor([[[1, 2, 3],\n",
      "         [4, 5, 6],\n",
      "         [7, 8, 9]],\n",
      "\n",
      "        [[1, 2, 3],\n",
      "         [4, 5, 6],\n",
      "         [7, 8, 9]],\n",
      "\n",
      "        [[1, 2, 3],\n",
      "         [4, 5, 6],\n",
      "         [7, 8, 9]]])\n"
     ]
    }
   ],
   "source": [
    "import torch\n",
    "\n",
    "# 3D tensor\n",
    "\n",
    "t3 = torch.tensor([[[1,2,3],\n",
    "                    [4,5,6],\n",
    "                    [7,8,9]],\n",
    "                    [[1,2,3],\n",
    "                     [4,5,6],\n",
    "                     [7,8,9]],\n",
    "                    [[1,2,3],\n",
    "                     [4,5,6],\n",
    "                     [7,8,9]]\n",
    "                    ])\n",
    "\n",
    "print(t3.ndim)\n",
    "print(t3.shape)\n",
    "print(t3)"
   ]
  },
  {
   "cell_type": "code",
   "execution_count": 52,
   "id": "212a42f3",
   "metadata": {},
   "outputs": [
    {
     "name": "stdout",
     "output_type": "stream",
     "text": [
      "tensor([[0.1022, 0.1794]])\n",
      "tensor([[0.1022, 0.1794]])\n",
      "tensor([[1., 1.]])\n",
      "tensor([[0., 0.]])\n",
      "tensor([[0.1022, 0.1794]])\n"
     ]
    }
   ],
   "source": [
    "#tensor operations\n",
    "\n",
    "import math\n",
    "a= torch.rand(1,2) * 2 -1\n",
    "print(a)\n",
    "print(torch.abs(a))  #abs(a) = |a|\n",
    "print(torch.ceil(a)) #ceil 주어진 숫자보다 크거나 같은 정수 반환\n",
    "print(torch.floor(a)) #바닥 함수, 실수 이하의 정수 함수 \n",
    "print(torch.clamp(a,-0.5,0.5)) #사이에 위치하게 찝어버리는 것, 특정 범위 내로 값 제한"
   ]
  },
  {
   "cell_type": "code",
   "execution_count": 31,
   "id": "3672250a",
   "metadata": {},
   "outputs": [
    {
     "name": "stdout",
     "output_type": "stream",
     "text": [
      "tensor([[-0.1746,  0.3640]])\n",
      "tensor(-0.1746)\n",
      "tensor(0.3640)\n",
      "tensor(0.0947)\n",
      "tensor(0.3809)\n",
      "tensor(-0.0636)\n",
      "tensor([1, 2, 3])\n"
     ]
    }
   ],
   "source": [
    "print(a)\n",
    "print(torch.min(a))\n",
    "print(torch.max(a))\n",
    "print(torch.mean(a))\n",
    "print(torch.std(a))\n",
    "print(torch.prod(a))\n",
    "print(torch.unique(torch.tensor([1,2,3,1,2,2])))"
   ]
  },
  {
   "cell_type": "code",
   "execution_count": null,
   "id": "e7852140",
   "metadata": {},
   "outputs": [
    {
     "name": "stdout",
     "output_type": "stream",
     "text": [
      "tensor([[0.2419, 0.0226],\n",
      "        [0.6413, 0.5880]])\n",
      "torch.return_types.max(\n",
      "values=tensor([0.6413, 0.5880]),\n",
      "indices=tensor([1, 1]))\n",
      "torch.return_types.max(\n",
      "values=tensor([0.2419, 0.6413]),\n",
      "indices=tensor([0, 0]))\n"
     ]
    }
   ],
   "source": [
    "x = torch.rand(2,2)\n",
    "print(x)\n",
    "print(x.max(dim=0)) #열끼리 값 비교\n",
    "print(x.max(dim=1)) #행끼리    \n",
    "#indices=tensor([1, 1]))\n",
    "\n",
    "#indices=tensor([0, 0]))!! 왜 이렇게 나오는지모름!!"
   ]
  },
  {
   "cell_type": "code",
   "execution_count": 34,
   "id": "c0cdd3bc",
   "metadata": {},
   "outputs": [
    {
     "name": "stdout",
     "output_type": "stream",
     "text": [
      "tensor([[0.1067, 0.2854],\n",
      "        [0.2043, 0.1122]])\n",
      "torch.return_types.min(\n",
      "values=tensor([0.1067, 0.1122]),\n",
      "indices=tensor([0, 1]))\n",
      "torch.return_types.min(\n",
      "values=tensor([0.1067, 0.1122]),\n",
      "indices=tensor([0, 1]))\n"
     ]
    }
   ],
   "source": [
    "x = torch.rand(2,2)\n",
    "print(x)\n",
    "print(x.min(dim=0)) #열끼리 값 비교\n",
    "print(x.min(dim=1)) #행끼리    "
   ]
  },
  {
   "cell_type": "code",
   "execution_count": 35,
   "id": "6a9b9c07",
   "metadata": {},
   "outputs": [
    {
     "name": "stdout",
     "output_type": "stream",
     "text": [
      "tensor([[0.6512, 0.9018],\n",
      "        [0.7267, 0.1926]])\n",
      "tensor([[0.2201, 0.2385],\n",
      "        [0.3471, 0.5388]])\n"
     ]
    },
    {
     "data": {
      "text/plain": [
       "tensor([[0.8714, 1.1403],\n",
       "        [1.0738, 0.7314]])"
      ]
     },
     "execution_count": 35,
     "metadata": {},
     "output_type": "execute_result"
    }
   ],
   "source": [
    "x = torch.rand(2,2)\n",
    "y = torch.rand(2,2)\n",
    "\n",
    "print(x)\n",
    "print(y)\n",
    "y.add_(x) #x+y 를 y에 inplace"
   ]
  },
  {
   "cell_type": "code",
   "execution_count": null,
   "id": "198ba565",
   "metadata": {},
   "outputs": [
    {
     "name": "stdout",
     "output_type": "stream",
     "text": [
      "tensor([[-0.3643, -0.3240, -0.3973, -0.5261, -0.6739],\n",
      "        [-1.4791,  0.9978, -0.1019, -0.7801, -0.0655],\n",
      "        [ 0.4608, -0.2796,  0.0259, -1.2670, -1.3541],\n",
      "        [ 0.8877,  0.2201,  0.2237,  0.4378,  1.5079]])\n",
      "tensor([-0.3643, -0.3240, -0.3973, -0.5261, -0.6739, -1.4791,  0.9978, -0.1019,\n",
      "        -0.7801, -0.0655,  0.4608, -0.2796,  0.0259, -1.2670, -1.3541,  0.8877,\n",
      "         0.2201,  0.2237,  0.4378,  1.5079])\n",
      "tensor([[-0.3643, -0.3240, -0.3973, -0.5261],\n",
      "        [-0.6739, -1.4791,  0.9978, -0.1019],\n",
      "        [-0.7801, -0.0655,  0.4608, -0.2796],\n",
      "        [ 0.0259, -1.2670, -1.3541,  0.8877],\n",
      "        [ 0.2201,  0.2237,  0.4378,  1.5079]])\n"
     ]
    }
   ],
   "source": [
    "#view \n",
    "\n",
    "x = torch.randn(4,5)\n",
    "print(x)\n",
    "y = x.view(20)\n",
    "print(y)\n",
    "\n",
    "z= x.view(5,-1)   # -1은  크키값 유추\n",
    "print(z)"
   ]
  },
  {
   "cell_type": "code",
   "execution_count": 40,
   "id": "fa811fac",
   "metadata": {},
   "outputs": [
    {
     "name": "stdout",
     "output_type": "stream",
     "text": [
      "0.9882844686508179\n"
     ]
    }
   ],
   "source": [
    "x= torch.randn(1)\n",
    "print(x.item())"
   ]
  },
  {
   "cell_type": "code",
   "execution_count": null,
   "id": "4b33cc3e",
   "metadata": {},
   "outputs": [
    {
     "name": "stdout",
     "output_type": "stream",
     "text": [
      "tensor([[[-0.8346, -0.8747,  0.5545],\n",
      "         [ 0.8653,  0.0762,  0.0961],\n",
      "         [-1.4589, -0.0674, -0.8211]]])\n",
      "torch.Size([1, 3, 3])\n",
      "tensor([[-0.8346, -0.8747,  0.5545],\n",
      "        [ 0.8653,  0.0762,  0.0961],\n",
      "        [-1.4589, -0.0674, -0.8211]])\n",
      "torch.Size([3, 3])\n"
     ]
    }
   ],
   "source": [
    " #squeeze 1크기기 차원 제거\n",
    " \n",
    "x = torch.randn(1,3,3)\n",
    "print(x)\n",
    "print(x.shape)\n",
    "x.squeeze_()\n",
    "print(x)\n",
    "print(x.shape)"
   ]
  },
  {
   "cell_type": "code",
   "execution_count": 45,
   "id": "7f775155",
   "metadata": {},
   "outputs": [
    {
     "name": "stdout",
     "output_type": "stream",
     "text": [
      "tensor([[[-0.8346, -0.8747,  0.5545],\n",
      "         [ 0.8653,  0.0762,  0.0961],\n",
      "         [-1.4589, -0.0674, -0.8211]]])\n",
      "torch.Size([1, 3, 3])\n"
     ]
    }
   ],
   "source": [
    "#unsqueeze 차원을 증가()\n",
    "\n",
    "tensor = x.unsqueeze(dim = 0)\n",
    "print(tensor)\n",
    "print(tensor.shape) "
   ]
  },
  {
   "cell_type": "code",
   "execution_count": 46,
   "id": "3564e474",
   "metadata": {},
   "outputs": [
    {
     "name": "stdout",
     "output_type": "stream",
     "text": [
      "tensor([[[-0.8346],\n",
      "         [-0.8747],\n",
      "         [ 0.5545]],\n",
      "\n",
      "        [[ 0.8653],\n",
      "         [ 0.0762],\n",
      "         [ 0.0961]],\n",
      "\n",
      "        [[-1.4589],\n",
      "         [-0.0674],\n",
      "         [-0.8211]]])\n",
      "torch.Size([3, 3, 1])\n"
     ]
    }
   ],
   "source": [
    "tensor = x.unsqueeze(dim = 2)\n",
    "print(tensor)\n",
    "print(tensor.shape) "
   ]
  },
  {
   "cell_type": "code",
   "execution_count": 47,
   "id": "d35d32a1",
   "metadata": {},
   "outputs": [
    {
     "name": "stdout",
     "output_type": "stream",
     "text": [
      "tensor([[[ 0.8289, -0.0801, -0.9944],\n",
      "         [-1.0942,  2.1836, -0.6330],\n",
      "         [ 0.4873, -0.0540, -0.3368]]])\n",
      "tensor([[[-0.0573,  1.2158, -1.7329],\n",
      "         [ 1.5686, -0.5916,  0.0516],\n",
      "         [-0.2844, -0.5247,  0.1357]]])\n",
      "tensor([[[ 0.8289, -0.0801, -0.9944],\n",
      "         [-1.0942,  2.1836, -0.6330],\n",
      "         [ 0.4873, -0.0540, -0.3368]],\n",
      "\n",
      "        [[-0.0573,  1.2158, -1.7329],\n",
      "         [ 1.5686, -0.5916,  0.0516],\n",
      "         [-0.2844, -0.5247,  0.1357]]])\n",
      "torch.Size([2, 3, 3])\n"
     ]
    }
   ],
   "source": [
    "#concatenate\n",
    "a = torch.randn(1,3,3)\n",
    "print(a)\n",
    "b = torch.randn(1,3,3)\n",
    "print(b)\n",
    "\n",
    "c = torch.cat((a,b), dim =0)\n",
    "print(c)\n",
    "print(c.shape)"
   ]
  },
  {
   "cell_type": "code",
   "execution_count": 48,
   "id": "0460ea05",
   "metadata": {},
   "outputs": [
    {
     "name": "stdout",
     "output_type": "stream",
     "text": [
      "tensor([[[ 0.8289, -0.0801, -0.9944],\n",
      "         [-1.0942,  2.1836, -0.6330],\n",
      "         [ 0.4873, -0.0540, -0.3368],\n",
      "         [-0.0573,  1.2158, -1.7329],\n",
      "         [ 1.5686, -0.5916,  0.0516],\n",
      "         [-0.2844, -0.5247,  0.1357]]])\n",
      "torch.Size([1, 6, 3])\n"
     ]
    }
   ],
   "source": [
    "c = torch.cat((a,b), dim =1)\n",
    "print(c)\n",
    "print(c.shape)"
   ]
  },
  {
   "cell_type": "code",
   "execution_count": 49,
   "id": "88b4393a",
   "metadata": {},
   "outputs": [
    {
     "name": "stdout",
     "output_type": "stream",
     "text": [
      "tensor([[0.3453, 0.8211, 0.9385, 0.1323, 0.1515, 0.2260],\n",
      "        [0.3015, 0.9201, 0.3132, 0.8879, 0.8687, 0.5471],\n",
      "        [0.1967, 0.3776, 0.5506, 0.5917, 0.7888, 0.8957]])\n",
      "tensor([[0.3453, 0.8211],\n",
      "        [0.3015, 0.9201],\n",
      "        [0.1967, 0.3776]])\n",
      "tensor([[0.9385, 0.1323],\n",
      "        [0.3132, 0.8879],\n",
      "        [0.5506, 0.5917]])\n",
      "tensor([[0.1515, 0.2260],\n",
      "        [0.8687, 0.5471],\n",
      "        [0.7888, 0.8957]])\n"
     ]
    }
   ],
   "source": [
    "#chuck\n",
    "tensor = torch.rand(3,6)\n",
    "print(tensor)\n",
    "t1,t2,t3 = torch.chunk(tensor, 3, dim = 1)\n",
    "print(t1)\n",
    "print(t2)\n",
    "print(t3)"
   ]
  },
  {
   "cell_type": "code",
   "execution_count": 50,
   "id": "0aee3f47",
   "metadata": {},
   "outputs": [
    {
     "name": "stdout",
     "output_type": "stream",
     "text": [
      "tensor([[0.3453, 0.8211, 0.9385, 0.1323, 0.1515, 0.2260],\n",
      "        [0.3015, 0.9201, 0.3132, 0.8879, 0.8687, 0.5471],\n",
      "        [0.1967, 0.3776, 0.5506, 0.5917, 0.7888, 0.8957]])\n",
      "tensor([[0.3453, 0.8211, 0.9385],\n",
      "        [0.3015, 0.9201, 0.3132],\n",
      "        [0.1967, 0.3776, 0.5506]])\n",
      "tensor([[0.1323, 0.1515, 0.2260],\n",
      "        [0.8879, 0.8687, 0.5471],\n",
      "        [0.5917, 0.7888, 0.8957]])\n"
     ]
    }
   ],
   "source": [
    "#split \n",
    "t1, t2 = torch.split(tensor, 3, dim = 1)\n",
    "\n",
    "print(tensor)\n",
    "print(t1)\n",
    "print(t2)"
   ]
  },
  {
   "cell_type": "markdown",
   "id": "bd296779",
   "metadata": {},
   "source": [
    "## tensor and numpy"
   ]
  },
  {
   "cell_type": "code",
   "execution_count": 53,
   "id": "3d72039f",
   "metadata": {},
   "outputs": [
    {
     "name": "stdout",
     "output_type": "stream",
     "text": [
      "tensor([1., 1., 1., 1., 1., 1., 1.])\n"
     ]
    }
   ],
   "source": [
    "a = torch.ones(7)\n",
    "print(a)"
   ]
  },
  {
   "cell_type": "code",
   "execution_count": 54,
   "id": "9349a423",
   "metadata": {},
   "outputs": [
    {
     "name": "stdout",
     "output_type": "stream",
     "text": [
      "[1. 1. 1. 1. 1. 1. 1.]\n"
     ]
    }
   ],
   "source": [
    "b = a.numpy()\n",
    "print(b)"
   ]
  },
  {
   "cell_type": "code",
   "execution_count": null,
   "id": "e299353d",
   "metadata": {},
   "outputs": [
    {
     "name": "stdout",
     "output_type": "stream",
     "text": [
      "tensor([2., 2., 2., 2., 2., 2., 2.])\n",
      "[2. 2. 2. 2. 2. 2. 2.]\n"
     ]
    }
   ],
   "source": [
    "#memory share(if CPU)\n",
    "a.add_(1)\n",
    "print(a)\n",
    "print(b)"
   ]
  },
  {
   "cell_type": "code",
   "execution_count": 57,
   "id": "ccda06f1",
   "metadata": {},
   "outputs": [
    {
     "name": "stdout",
     "output_type": "stream",
     "text": [
      "[2. 2. 2. 2. 2. 2. 2.]\n",
      "tensor([2., 2., 2., 2., 2., 2., 2.], dtype=torch.float64)\n"
     ]
    }
   ],
   "source": [
    "import numpy as np\n",
    "a = np.ones(7)\n",
    "b = torch.from_numpy(a)\n",
    "np.add(a,1,out =a) #output은 a이다\n",
    "print(a)\n",
    "print(b)"
   ]
  },
  {
   "cell_type": "markdown",
   "id": "9b1dd61f",
   "metadata": {},
   "source": [
    "### Autograd"
   ]
  },
  {
   "cell_type": "code",
   "execution_count": null,
   "id": "8f1726fd",
   "metadata": {},
   "outputs": [
    {
     "name": "stdout",
     "output_type": "stream",
     "text": [
      "tensor([[-0.6824, -5.4141,  4.5977],\n",
      "        [-2.9538,  2.9832,  2.6810],\n",
      "        [ 1.5169, -2.4742, -0.9440]])\n",
      "False\n"
     ]
    }
   ],
   "source": [
    "a = torch.randn(3,3)\n",
    "a= a*3\n",
    "print(a)\n",
    "print(a.requires_grad)  #first False"
   ]
  },
  {
   "cell_type": "code",
   "execution_count": 59,
   "id": "8d6bcb69",
   "metadata": {},
   "outputs": [
    {
     "name": "stdout",
     "output_type": "stream",
     "text": [
      "True\n",
      "tensor(85.0426, grad_fn=<SumBackward0>)\n",
      "<SumBackward0 object at 0x000001A3B9F68D30>\n"
     ]
    }
   ],
   "source": [
    " a.requires_grad_(True) # inplace a'\n",
    " print(a.requires_grad)\n",
    " \n",
    " b = (a*a).sum()\n",
    " print(b)\n",
    " print(b.grad_fn)\n",
    " "
   ]
  },
  {
   "cell_type": "markdown",
   "id": "ac4397f2",
   "metadata": {},
   "source": [
    "### 기울기"
   ]
  },
  {
   "cell_type": "code",
   "execution_count": 61,
   "id": "62a411db",
   "metadata": {},
   "outputs": [
    {
     "name": "stdout",
     "output_type": "stream",
     "text": [
      "tensor([[1., 1., 1.],\n",
      "        [1., 1., 1.],\n",
      "        [1., 1., 1.]], requires_grad=True)\n"
     ]
    }
   ],
   "source": [
    "x = torch.ones(3,3, requires_grad = True)\n",
    "print(x)"
   ]
  },
  {
   "cell_type": "code",
   "execution_count": null,
   "id": "6b65f12d",
   "metadata": {},
   "outputs": [
    {
     "name": "stdout",
     "output_type": "stream",
     "text": [
      "tensor([[6., 6., 6.],\n",
      "        [6., 6., 6.],\n",
      "        [6., 6., 6.]], grad_fn=<AddBackward0>)\n"
     ]
    }
   ],
   "source": [
    "y = x+5\n",
    "print(y) "
   ]
  },
  {
   "cell_type": "code",
   "execution_count": 63,
   "id": "489b8388",
   "metadata": {},
   "outputs": [
    {
     "name": "stdout",
     "output_type": "stream",
     "text": [
      "tensor([[36., 36., 36.],\n",
      "        [36., 36., 36.],\n",
      "        [36., 36., 36.]], grad_fn=<MulBackward0>) tensor(36., grad_fn=<MeanBackward0>)\n"
     ]
    }
   ],
   "source": [
    "z = y*y\n",
    "out = z.mean()\n",
    "print(z, out)"
   ]
  },
  {
   "cell_type": "markdown",
   "id": "8fc5611c",
   "metadata": {},
   "source": [
    "- 계산이 완료된 후, backward() 를 호출 시 자동 역전파 계산 가능, .grad 속성에 누적됨"
   ]
  },
  {
   "cell_type": "code",
   "execution_count": 64,
   "id": "80023a45",
   "metadata": {},
   "outputs": [
    {
     "name": "stdout",
     "output_type": "stream",
     "text": [
      "tensor(36., grad_fn=<MeanBackward0>)\n"
     ]
    }
   ],
   "source": [
    "print(out)\n",
    "out.backward()"
   ]
  },
  {
   "cell_type": "code",
   "execution_count": 65,
   "id": "3f2b676a",
   "metadata": {},
   "outputs": [
    {
     "name": "stdout",
     "output_type": "stream",
     "text": [
      "tensor([[1., 1., 1.],\n",
      "        [1., 1., 1.],\n",
      "        [1., 1., 1.]], requires_grad=True)\n",
      "tensor([[1.3333, 1.3333, 1.3333],\n",
      "        [1.3333, 1.3333, 1.3333],\n",
      "        [1.3333, 1.3333, 1.3333]])\n"
     ]
    }
   ],
   "source": [
    "# grad : data 가 거쳐온 layer에 대한 미분값 저장\n",
    "\n",
    "print(x)\n",
    "print(x.grad)"
   ]
  },
  {
   "cell_type": "code",
   "execution_count": 77,
   "id": "486f40c4",
   "metadata": {},
   "outputs": [
    {
     "name": "stdout",
     "output_type": "stream",
     "text": [
      "tensor([-1.4645, -0.1537,  1.1152], grad_fn=<MulBackward0>)\n",
      "tensor([-2.9290, -0.3073,  2.2303], grad_fn=<MulBackward0>)\n",
      "tensor([-5.8580, -0.6146,  4.4606], grad_fn=<MulBackward0>)\n",
      "tensor([-11.7160,  -1.2292,   8.9212], grad_fn=<MulBackward0>)\n",
      "tensor([-23.4320,  -2.4584,  17.8424], grad_fn=<MulBackward0>)\n",
      "tensor([-46.8641,  -4.9168,  35.6848], grad_fn=<MulBackward0>)\n",
      "tensor([-93.7281,  -9.8337,  71.3697], grad_fn=<MulBackward0>)\n",
      "tensor([-187.4562,  -19.6674,  142.7394], grad_fn=<MulBackward0>)\n",
      "tensor([-374.9124,  -39.3347,  285.4787], grad_fn=<MulBackward0>)\n",
      "tensor([-749.8248,  -78.6694,  570.9575], grad_fn=<MulBackward0>)\n",
      "tensor([-1499.6497,  -157.3388,  1141.9149], grad_fn=<MulBackward0>)\n"
     ]
    }
   ],
   "source": [
    "x = torch.randn(3, requires_grad = True)\n",
    "\n",
    "y = x*2\n",
    "while y.data.norm() < 1000:\n",
    "    y = y*2\n",
    "    \n",
    "    print(y)"
   ]
  },
  {
   "cell_type": "code",
   "execution_count": 78,
   "id": "c41e39ae",
   "metadata": {},
   "outputs": [
    {
     "name": "stdout",
     "output_type": "stream",
     "text": [
      "tensor([4.0960e+02, 4.0960e+03, 4.0960e-01])\n"
     ]
    }
   ],
   "source": [
    "v = torch.tensor([0.1, 1.0, 0.0001], dtype = torch.float)\n",
    "y.backward(v)\n",
    "\n",
    "print(x.grad)"
   ]
  },
  {
   "cell_type": "code",
   "execution_count": null,
   "id": "b464712e",
   "metadata": {},
   "outputs": [],
   "source": []
  }
 ],
 "metadata": {
  "kernelspec": {
   "display_name": "torch",
   "language": "python",
   "name": "python3"
  },
  "language_info": {
   "codemirror_mode": {
    "name": "ipython",
    "version": 3
   },
   "file_extension": ".py",
   "mimetype": "text/x-python",
   "name": "python",
   "nbconvert_exporter": "python",
   "pygments_lexer": "ipython3",
   "version": "3.12.11"
  }
 },
 "nbformat": 4,
 "nbformat_minor": 5
}
