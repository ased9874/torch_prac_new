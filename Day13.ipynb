{
 "cells": [
  {
   "cell_type": "markdown",
   "id": "f895892c",
   "metadata": {},
   "source": [
    "# 04. PyTorch Custom Datasets"
   ]
  },
  {
   "cell_type": "markdown",
   "id": "83d5273f",
   "metadata": {},
   "source": [
    "- A custom dataset is a collection of data relating to(관련된) a specific problem you're working on.\n",
    "- a custom dataset can be comprised of(구성될 수 있다) almost anything.\n",
    "- 어떤걸 만들려고 한다면 그거에 맞는 커스텀 데이터셋이 필요하다다\n",
    "- PyTorch includes many existing functions to load in various custom datasets in the TorchVision, TorchText, TorchAudio and TorchRec domain libraries.\n",
    "\n"
   ]
  },
  {
   "cell_type": "markdown",
   "id": "36fa93f4",
   "metadata": {},
   "source": [
    "## 0. Importing PyTorch and setting up device-agnostic(기기 독립적) code"
   ]
  },
  {
   "cell_type": "code",
   "execution_count": null,
   "id": "71879bd0",
   "metadata": {},
   "outputs": [
    {
     "data": {
      "text/plain": [
       "'2.7.1+cu126'"
      ]
     },
     "execution_count": 1,
     "metadata": {},
     "output_type": "execute_result"
    }
   ],
   "source": [
    "import torch\n",
    "from torch import nn  # 뉴럴 네트워크 신경망\n",
    "\n",
    "torch.__version__"
   ]
  },
  {
   "cell_type": "code",
   "execution_count": 2,
   "id": "c8614e4f",
   "metadata": {},
   "outputs": [],
   "source": [
    "# Setup device-agnostic code\n",
    "device = \"cuda\" if torch.cuda.is_available() else \"cpu\"\n"
   ]
  },
  {
   "cell_type": "markdown",
   "id": "0035da58",
   "metadata": {},
   "source": [
    "## 1. Get data"
   ]
  },
  {
   "cell_type": "code",
   "execution_count": null,
   "id": "3946d211",
   "metadata": {},
   "outputs": [
    {
     "name": "stdout",
     "output_type": "stream",
     "text": [
      "Did not find data\\'\\pizza_steak_sushi directory, creating one....\n",
      "Downloading pizza,steak,sushi data...\n",
      "Unzipping pizza, steak, sushi data...\n"
     ]
    }
   ],
   "source": [
    "import requests  #요청하다, 요구하다 #웹사이트에서 데이터(파일, 텍스트)를 가지고 오는데 유용용\n",
    "import zipfile\n",
    "from pathlib import Path\n",
    "\n",
    "# Setup path to data folder\n",
    "data_path = Path(\"data/'\")\n",
    "image_path = data_path / \"pizza_steak_sushi\"   #경로 만들어 놓기기\n",
    "\n",
    "# Setup path to data folder\n",
    "if image_path.is_dir():   #디렉토리가 있냐?\n",
    "    print(f\"{image_path} directory exists\")\n",
    "else:\n",
    "    print(f\"Did not find {image_path} directory, creating one....\")\n",
    "    image_path.mkdir(parents = True, exist_ok = True) #디렉토리 만들기\n",
    "    \n",
    "    # Download pizza, steak, sushi data\n",
    "    with open(data_path / \"pizza_steak_sushi.zip\", \"wb\") as f:  #파일을 새로 만들기 위한 준비 작업 # 아직 pizza_steak_sushi.zip은 없어\n",
    "                                                                #\"wb\" write binary 이진 모드로 쓰기(zip,이미지, 영상을 작성 시), \"빈 파일\" 열어두기\n",
    "        request = requests.get(\"https://github.com/mrdbourke/pytorch-deep-learning/raw/main/data/pizza_steak_sushi.zip\") # get 함수로 주소의 데이터 요청하기\n",
    "        print(\"Downloading pizza,steak,sushi data...\")                                                                   #GitHub에 있는 .zip 파일을 \"GET 요청\"으로 받아온다\n",
    "        f.write(request.content)  #request.content 안에 \"pizza_steak_sushi.zip\" 이 있다.\n",
    "        # as f 열린 파일 객체에 이름 부여하기\n",
    "        \n",
    "    # Unzip pizza, steak, sushi data # 압축된 덩어리를 풀기 위해 zipfile.ZipFile를 사용\n",
    "    with zipfile.ZipFile(data_path / \"pizza_steak_sushi.zip\", 'r') as zip_ref:\n",
    "        print(\"Unzipping pizza, steak, sushi data...\")\n",
    "        zip_ref.extractall(image_path)   #아카이브(보관소)에 저장된 모든 member를 가지고 온다는데? #zip 안에 있는 모든 파일을 한꺼번에 불러와줌 \n"
   ]
  },
  {
   "cell_type": "markdown",
   "id": "b634fd59",
   "metadata": {},
   "source": [
    "## 2. 데이터 준비"
   ]
  },
  {
   "cell_type": "code",
   "execution_count": 8,
   "id": "142a41df",
   "metadata": {},
   "outputs": [],
   "source": [
    "## 하위디렉토리의 수, 하위디렉토리의 이미지 수, 각 하위 디렉토리의 이름 walk하기기\n",
    "\n",
    "import os \n",
    "def walk_through_dir(dir_path):\n",
    "    \"\"\"\n",
    "  Walks through dir_path returning its contents.\n",
    "  Args:\n",
    "    dir_path (str or pathlib.Path): target directory\n",
    "  \n",
    "  Returns:\n",
    "    A print out of:\n",
    "      number of subdiretories in dir_path\n",
    "      number of images (files) in each subdirectory\n",
    "      name of each subdirectory\n",
    "  \"\"\"\n",
    "    for dirpath, dirnames, filenames in os.walk(dir_path):\n",
    "        print(f\"There are {len(dirnames)} directories and {len(filenames)} images in '{dirpath}'.\")\n",
    "     "
   ]
  },
  {
   "cell_type": "code",
   "execution_count": null,
   "id": "8dd2d840",
   "metadata": {},
   "outputs": [
    {
     "name": "stdout",
     "output_type": "stream",
     "text": [
      "There are 2 directories and 0 images in 'data\\'\\pizza_steak_sushi'.\n",
      "There are 3 directories and 0 images in 'data\\'\\pizza_steak_sushi\\test'.\n",
      "There are 0 directories and 25 images in 'data\\'\\pizza_steak_sushi\\test\\pizza'.\n",
      "There are 0 directories and 19 images in 'data\\'\\pizza_steak_sushi\\test\\steak'.\n",
      "There are 0 directories and 31 images in 'data\\'\\pizza_steak_sushi\\test\\sushi'.\n",
      "There are 3 directories and 0 images in 'data\\'\\pizza_steak_sushi\\train'.\n",
      "There are 0 directories and 78 images in 'data\\'\\pizza_steak_sushi\\train\\pizza'.\n",
      "There are 0 directories and 75 images in 'data\\'\\pizza_steak_sushi\\train\\steak'.\n",
      "There are 0 directories and 72 images in 'data\\'\\pizza_steak_sushi\\train\\sushi'.\n"
     ]
    }
   ],
   "source": [
    "walk_through_dir(image_path) # image_path 로 했으니  zip 데이터는 불러오지 않는다."
   ]
  },
  {
   "cell_type": "code",
   "execution_count": 10,
   "id": "c7c59e1d",
   "metadata": {},
   "outputs": [
    {
     "data": {
      "text/plain": [
       "(WindowsPath(\"data/'/pizza_steak_sushi/train\"),\n",
       " WindowsPath(\"data/'/pizza_steak_sushi/test\"))"
      ]
     },
     "execution_count": 10,
     "metadata": {},
     "output_type": "execute_result"
    }
   ],
   "source": [
    "# Setup train and testing paths\n",
    "train_dir = image_path / \"train\"\n",
    "test_dir = image_path / \"test\"\n",
    "\n",
    "train_dir, test_dir"
   ]
  },
  {
   "cell_type": "markdown",
   "id": "77387745",
   "metadata": {},
   "source": [
    "### 2.1 Visualize an image"
   ]
  },
  {
   "cell_type": "code",
   "execution_count": null,
   "id": "2db0635d",
   "metadata": {},
   "outputs": [],
   "source": []
  }
 ],
 "metadata": {
  "kernelspec": {
   "display_name": "torch",
   "language": "python",
   "name": "python3"
  },
  "language_info": {
   "codemirror_mode": {
    "name": "ipython",
    "version": 3
   },
   "file_extension": ".py",
   "mimetype": "text/x-python",
   "name": "python",
   "nbconvert_exporter": "python",
   "pygments_lexer": "ipython3",
   "version": "3.12.11"
  }
 },
 "nbformat": 4,
 "nbformat_minor": 5
}
